{
 "cells": [
  {
   "cell_type": "code",
   "execution_count": 17,
   "metadata": {},
   "outputs": [],
   "source": [
    "import pandas as pd\n",
    "import glob\n",
    "from afinn import Afinn # 영어사전\n",
    "from nltk.corpus import stopwords \n",
    "from nltk.stem.porter import PorterStemmer\n",
    "from nltk.tokenize import RegexpTokenizer\n",
    "import numpy as np\n",
    "import matplotlib.pyplot as plt"
   ]
  },
  {
   "cell_type": "code",
   "execution_count": 26,
   "metadata": {},
   "outputs": [],
   "source": [
    "pos_review=(glob.glob(\"aclImdb\\\\train\\\\pos\\\\*.txt\"))[0] # 긍정단어\n",
    "\n",
    "f = open(pos_review, 'r')\n",
    "lines1 = f.readlines()[0]\n",
    "f.close()"
   ]
  },
  {
   "cell_type": "code",
   "execution_count": 27,
   "metadata": {},
   "outputs": [
    {
     "name": "stdout",
     "output_type": "stream",
     "text": [
      "Bromwell High is a cartoon comedy. It ran at the same time as some other programs about school life, such as \"Teachers\". My 35 years in the teaching profession lead me to believe that Bromwell High's satire is much closer to reality than is \"Teachers\". The scramble to survive financially, the insightful students who can see right through their pathetic teachers' pomp, the pettiness of the whole situation, all remind me of the schools I knew and their students. When I saw the episode in which a student repeatedly tried to burn down the school, I immediately recalled ......... at .......... High. A classic line: INSPECTOR: I'm here to sack one of your teachers. STUDENT: Welcome to Bromwell High. I expect that many adults of my age think that Bromwell High is far fetched. What a pity that it isn't!\n"
     ]
    },
    {
     "data": {
      "text/plain": [
       "-1.0"
      ]
     },
     "execution_count": 27,
     "metadata": {},
     "output_type": "execute_result"
    }
   ],
   "source": [
    "afinn = Afinn()\n",
    "\n",
    "print(lines1)\n",
    "afinn.score(lines1) # 그렇게 긍정이라고 보긴 어려워 (결과가 음수니까)"
   ]
  },
  {
   "cell_type": "code",
   "execution_count": 42,
   "metadata": {},
   "outputs": [
    {
     "name": "stdout",
     "output_type": "stream",
     "text": [
      "All the world said that the film Tashan would be a good movie with great pleasure, but this is not the case. Vijay Krishna Acharya made a serious mistake to take as an actress Kareena Kapoor. She was unbearable throughout the film. Her tom-boy look does not really goes well. Even the film the story of the film is not making sense at all. Everyone said that the Quetin Taratino of India is Vijay but its not at all Quetin. The talent Anil Kapoor was involved in this stupid movie. Anil is an actor of large caliber and this film is not. Akshay Kumar has also been a victim of this film as all is Saif. The Style and the Phoormola is not really good in this film i was disappointed\n"
     ]
    },
    {
     "data": {
      "text/plain": [
       "3.0"
      ]
     },
     "execution_count": 42,
     "metadata": {},
     "output_type": "execute_result"
    }
   ],
   "source": [
    "neg_review=(glob.glob(\"aclImdb\\\\train\\\\neg\\\\*.txt\"))[50] # 부정단어\n",
    "\n",
    "f = open(neg_review, 'r')\n",
    "lines2 = f.readlines()[0]\n",
    "f.close()\n",
    "\n",
    "print(lines2)\n",
    "afinn.score(lines2) # 그렇게 부정이라고 보긴 어려워 (단어 매칭만하고 문맥파악은 힘드니까)"
   ]
  },
  {
   "cell_type": "code",
   "execution_count": 35,
   "metadata": {},
   "outputs": [],
   "source": [
    "NRC=pd.read_csv('nrc.txt',engine=\"python\",header=None,sep=\"\\t\")\n",
    "\n",
    "NRC=NRC[(NRC != 0).all(1)]\n",
    "NRC=NRC.reset_index(drop=True)"
   ]
  },
  {
   "cell_type": "code",
   "execution_count": 36,
   "metadata": {},
   "outputs": [],
   "source": [
    "tokenizer = RegexpTokenizer('[\\w]+')\n",
    "stop_words = stopwords.words('english')\n",
    "p_stemmer = PorterStemmer()"
   ]
  },
  {
   "cell_type": "code",
   "execution_count": 43,
   "metadata": {},
   "outputs": [],
   "source": [
    "raw = lines1.lower()\n",
    "tokens = tokenizer.tokenize(raw)\n",
    "stopped_tokens = [i for i in tokens if not i in stop_words]\n",
    "\n",
    "match_words = [x for x in stopped_tokens if x in list(NRC[0])]"
   ]
  },
  {
   "cell_type": "code",
   "execution_count": 44,
   "metadata": {},
   "outputs": [],
   "source": [
    "emotion=[]\n",
    "for i in match_words:\n",
    "    temp=list(NRC.iloc[np.where(NRC[0] == i)[0],1])\n",
    "    for j in temp:\n",
    "        emotion.append(j)"
   ]
  },
  {
   "cell_type": "code",
   "execution_count": 45,
   "metadata": {},
   "outputs": [
    {
     "data": {
      "text/plain": [
       "<matplotlib.axes._subplots.AxesSubplot at 0x22620f10be0>"
      ]
     },
     "execution_count": 45,
     "metadata": {},
     "output_type": "execute_result"
    },
    {
     "data": {
      "image/png": "[encoded data removed]",
      "text/plain": [
       "<Figure size 432x288 with 1 Axes>"
      ]
     },
     "metadata": {},
     "output_type": "display_data"
    }
   ],
   "source": [
    "sentiment_result1=pd.Series(emotion).value_counts()\n",
    "\n",
    "sentiment_result1\n",
    "\n",
    "sentiment_result1.plot.bar()"
   ]
  },
  {
   "cell_type": "code",
   "execution_count": 46,
   "metadata": {},
   "outputs": [],
   "source": [
    "raw = lines2.lower()\n",
    "tokens = tokenizer.tokenize(raw)\n",
    "stopped_tokens = [i for i in tokens if not i in stop_words]"
   ]
  },
  {
   "cell_type": "code",
   "execution_count": 47,
   "metadata": {},
   "outputs": [],
   "source": [
    "match_words = [x for x in stopped_tokens if x in list(NRC[0])]\n",
    "\n",
    "emotion=[]\n",
    "for i in match_words:\n",
    "    temp=list(NRC.iloc[np.where(NRC[0] == i)[0],1])\n",
    "    for j in temp:\n",
    "        emotion.append(j)"
   ]
  },
  {
   "cell_type": "code",
   "execution_count": 48,
   "metadata": {},
   "outputs": [
    {
     "data": {
      "text/plain": [
       "<matplotlib.axes._subplots.AxesSubplot at 0x22620fbe320>"
      ]
     },
     "execution_count": 48,
     "metadata": {},
     "output_type": "execute_result"
    },
    {
     "data": {
      "image/png": "[encoded data removed]",
      "text/plain": [
       "<Figure size 432x288 with 1 Axes>"
      ]
     },
     "metadata": {},
     "output_type": "display_data"
    }
   ],
   "source": [
    "sentiment_result2=pd.Series(emotion).value_counts()\n",
    "\n",
    "sentiment_result2\n",
    "\n",
    "sentiment_result2.plot.bar()"
   ]
  },
  {
   "cell_type": "code",
   "execution_count": null,
   "metadata": {},
   "outputs": [],
   "source": []
  }
 ],
 "metadata": {
  "kernelspec": {
   "display_name": "Python 3",
   "language": "python",
   "name": "python3"
  },
  "language_info": {
   "codemirror_mode": {
    "name": "ipython",
    "version": 3
   },
   "file_extension": ".py",
   "mimetype": "text/x-python",
   "name": "python",
   "nbconvert_exporter": "python",
   "pygments_lexer": "ipython3",
   "version": "3.7.6"
  }
 },
 "nbformat": 4,
 "nbformat_minor": 2
}
